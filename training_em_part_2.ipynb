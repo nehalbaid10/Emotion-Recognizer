{
  "nbformat": 4,
  "nbformat_minor": 0,
  "metadata": {
    "colab": {
      "name": "training_em_part-2.ipynb",
      "provenance": [],
      "collapsed_sections": [],
      "include_colab_link": true
    },
    "kernelspec": {
      "name": "python3",
      "display_name": "Python 3"
    },
    "language_info": {
      "name": "python"
    }
  },
  "cells": [
    {
      "cell_type": "markdown",
      "metadata": {
        "id": "view-in-github",
        "colab_type": "text"
      },
      "source": [
        "<a href=\"https://colab.research.google.com/github/nehalbaid10/Emotion-Recognizer/blob/main/training_em_part_2.ipynb\" target=\"_parent\"><img src=\"https://colab.research.google.com/assets/colab-badge.svg\" alt=\"Open In Colab\"/></a>"
      ]
    },
    {
      "cell_type": "code",
      "source": [
        "import os\n",
        "import keras\n",
        "import tensorflow as tf\n",
        "from tensorflow.keras.preprocessing.image import ImageDataGenerator\n",
        "from tensorflow.keras.layers import Input, Conv2D, MaxPooling2D, Dropout, BatchNormalization, Dense, Flatten, Activation\n",
        "from tensorflow.keras.models import Sequential, Model\n",
        "from tensorflow.keras.regularizers import l2\n",
        "from tensorflow.keras.optimizers import Adam\n",
        "import pandas as pd\n",
        "import numpy as np\n",
        "\n",
        "\n",
        "num_classes = 7\n",
        "batch_size = 64\n",
        "epochs = 100\n",
        "Img_height = 48\n",
        "Img_width = 48\n",
        "\n",
        "\n",
        "data = pd.read_csv('/content/drive/MyDrive/emotion_2/fer2013(1).csv')\n",
        "data.head()\n",
        "  "
      ],
      "metadata": {
        "id": "7_foU-4iz133"
      },
      "execution_count": null,
      "outputs": []
    },
    {
      "cell_type": "markdown",
      "source": [
        ""
      ],
      "metadata": {
        "id": "Zc252y4gkB5V"
      }
    },
    {
      "cell_type": "code",
      "source": [
        "pixels = data['pixels'].tolist() \n",
        "faces = []\n",
        "\n",
        "for pixel_sequence in pixels:\n",
        "    face = [int(pixel) for pixel in pixel_sequence.split(' ')]\n",
        "    face = np.asarray(face).reshape(Img_height, Img_width) \n",
        "    faces.append(face.astype('float32'))\n",
        "\n",
        "faces = np.asarray(faces)\n",
        "faces = np.expand_dims(faces, -1)\n",
        "\n",
        "emotions = pd.get_dummies(data['emotion']).values\n",
        "\n",
        "\n",
        "from sklearn.model_selection import train_test_split\n",
        "\n",
        "X_train, X_test, y_train, y_test = train_test_split(faces, emotions, test_size=0.1, random_state=42)\n",
        "X_train, X_val, y_train, y_val = train_test_split(X_train, y_train, test_size=0.1, random_state=41)\n",
        "\n",
        "\n"
      ],
      "metadata": {
        "id": "44r55pTdz6un"
      },
      "execution_count": null,
      "outputs": []
    },
    {
      "cell_type": "code",
      "execution_count": null,
      "metadata": {
        "id": "51vE5PMpxg2o"
      },
      "outputs": [],
      "source": [
        "\n",
        "\n",
        "\n",
        "emotions_model = Sequential()\n",
        "\n",
        "# Block-1: The First Convolutional Block\n",
        "\n",
        "emotions_model.add(Conv2D(filters=32, kernel_size=(3,3), padding='same', \n",
        "                 kernel_initializer='he_normal',\n",
        "                 activation=\"relu\", \n",
        "                 input_shape=(Img_height, Img_width, 1), \n",
        "                 name=\"Conv1\"))\n",
        "\n",
        "emotions_model.add(BatchNormalization(name=\"Batch_Norm1\"))\n",
        "\n",
        "emotions_model.add(Conv2D(filters=32, kernel_size=(3,3), padding='same', \n",
        "                 kernel_initializer='he_normal', \n",
        "                 activation=\"relu\", name=\"Conv2\"))\n",
        "\n",
        "emotions_model.add(BatchNormalization(name=\"Batch_Norm2\"))\n",
        "model.add(MaxPooling2D(pool_size=(2,2), name=\"Maxemotions_pool1\"))\n",
        "model.add(Dropout(0.5, name=\"Dropout1\"))emotions_\n",
        "\n",
        "# Block-2: The Second Convolutional Block\n",
        "\n",
        "emotions_model.add(Conv2D(filters=64, kernel_size=(3,3), padding='same', \n",
        "                 kernel_initializer='he_normal',\n",
        "                 activation=\"relu\", name=\"Conv3\"))\n",
        "\n",
        "emotions_model.add(BatchNormalization(name=\"Batch_Norm3\"))\n",
        "\n",
        "emotions_model.add(Conv2D(filters=64,kernel_size=(3,3),padding='same',\n",
        "                 kernel_initializer='he_normal', \n",
        "                 activation=\"relu\", name=\"Conv4\"))\n",
        "\n",
        "emotions_model.add(BatchNormalization(name=\"Batch_Norm4\"))\n",
        "model.add(MaxPooling2D(pool_size=(2,2), name=\"Maxemotions_pool2\"))\n",
        "model.add(Dropout(0.5, name=\"Dropout2\"))emotions_\n",
        "\n",
        "# Block-3: The Third Convolutional Block\n",
        "\n",
        "emotions_model.add(Conv2D(filters=128, kernel_size=(3,3), padding='same', \n",
        "                 kernel_initializer='he_normal', \n",
        "                 activation=\"relu\", name=\"Conv5\"))\n",
        "\n",
        "emotions_model.add(BatchNormalization(name=\"Batch_Norm5\"))\n",
        "\n",
        "emotions_model.add(Conv2D(filters=128, kernel_size=(3,3), padding='same', \n",
        "                 kernel_initializer='he_normal',\n",
        "                 activation=\"relu\", name=\"Conv6\"))\n",
        "\n",
        "emotions_model.add(BatchNormalization(name=\"Batch_Norm6\"))\n",
        "model.add(MaxPooling2D(pool_size=(2,2), name=\"Maxemotions_pool3\"))\n",
        "model.add(Dropout(0.5, name=\"Dropout3\"))emotions_\n",
        "\n",
        "# Block-4: The Fully Connected Block\n",
        "\n",
        "emotions_model.add(Flatten(name=\"Flatten\"))\n",
        "model.add(Dense(64, activation=\"reemotions_lu\", kernel_initializer='he_normal', name=\"Dense\"))\n",
        "model.add(BatchNormalization(name=\"Batch_Norm7\"))emotions_\n",
        "model.add(Dropout(0.5, name=\"Dropout4\"))emotions_\n",
        "\n",
        "# Block-5: The Output Block\n",
        "\n",
        "emotions_model.add(Dense(num_classes, activation=\"softmax\", kernel_initializer='he_normal', name = \"Output\"))"
      ]
    },
    {
      "cell_type": "code",
      "source": [
        "from tensorflow import keras\n",
        "from keras.utils.vis_utils import plot_model\n",
        "from keras.utils import np_utils\n",
        "\n",
        "keras.utils.plot_model(model, to_file='model3.png', show_layer_names=True)\n",
        "\n",
        "\n",
        "\n",
        "\n",
        "model.compile(loss=\"categorical_crossentropy\",\n",
        "              optimizer=Adam(lr=0.001, beta_1=0.9, beta_2=0.999, epsilon=1e-7),\n",
        "              metrics=['accuracy'])\n",
        "\n",
        "\n",
        "\n",
        "from tensorflow.keras.callbacks import ModelCheckpoint\n",
        "from tensorflow.keras.callbacks import ReduceLROnPlateau\n",
        "from tensorflow.keras.callbacks import TensorBoard\n",
        "from tensorflow.keras.callbacks import EarlyStopping\n",
        "\n",
        "tensorboard = TensorBoard(log_dir='logs3')\n",
        "lr_reducer = ReduceLROnPlateau(monitor='val_accuracy', factor=0.9, patience=3, verbose=1)\n",
        "early_stopper = EarlyStopping(monitor='val_accuracy', min_delta=0, patience=8, verbose=1, mode='auto')\n",
        "checkpointer = ModelCheckpoint(\"drive/MyDrive/emotion_2/saved_model/emotions_part2.h5\", monitor='val_accuracy', verbose=1, save_best_only=True)\n",
        "\n",
        "\n",
        "\n",
        "model.fit(np.array(X_train), np.array(y_train),\n",
        "          batch_size=batch_size,\n",
        "          epochs=epochs,\n",
        "          verbose=1,\n",
        "          validation_data=(np.array(X_test), np.array(y_test)),\n",
        "          shuffle=True,\n",
        "          callbacks=[lr_reducer, tensorboard, early_stopper, checkpointer])\n",
        "\n",
        "\n",
        "\n",
        "\n",
        "model.save('drive/MyDrive/emotion_2/saved_model/em_part2.h5')\n"
      ],
      "metadata": {
        "id": "j2OaEmoY0CYh"
      },
      "execution_count": null,
      "outputs": []
    }
  ]
}